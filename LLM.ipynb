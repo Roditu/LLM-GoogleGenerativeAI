{
 "cells": [
  {
   "cell_type": "code",
   "execution_count": 1,
   "metadata": {},
   "outputs": [
    {
     "name": "stderr",
     "output_type": "stream",
     "text": [
      "c:\\Users\\ULTRON\\AppData\\Local\\Programs\\Python\\Python310\\lib\\site-packages\\tqdm\\auto.py:21: TqdmWarning: IProgress not found. Please update jupyter and ipywidgets. See https://ipywidgets.readthedocs.io/en/stable/user_install.html\n",
      "  from .autonotebook import tqdm as notebook_tqdm\n"
     ]
    }
   ],
   "source": [
    "import tensorflow as tf\n",
    "import os\n",
    "from langchain_google_genai import GoogleGenerativeAI\n",
    "from langchain.utilities import SQLDatabase\n",
    "from langchain_experimental.sql import SQLDatabaseChain\n",
    "\n"
   ]
  },
  {
   "cell_type": "code",
   "execution_count": 2,
   "metadata": {},
   "outputs": [
    {
     "name": "stdout",
     "output_type": "stream",
     "text": [
      "**Pros of Python**\n",
      "\n",
      "* **Easy to learn:** Python is a very easy language to learn, even for beginners. The syntax is simple and straightforward, and there are a lot of resources available to help you get started.\n",
      "* **Versatile:** Python can be used for a wide variety of tasks, including web development, data science, and machine learning. It's also a good choice for beginners because it can be used for so many different things.\n",
      "* **High-level:** Python is a high-level language, which means that it's closer to human language than some other programming languages. This makes it easier to read and write code, and it also makes it more portable.\n",
      "* **Community:** Python has a large and active community, which means that there are a lot of resources available to help you learn and use the language. There are also a lot of people who are willing to help you if you get stuck.\n",
      "\n",
      "**Cons of Python**\n",
      "\n",
      "* **Slow:** Python is not as fast as some other programming languages, such as C++ or Java. This is because Python is interpreted, rather than compiled.\n",
      "* **Not as efficient:** Python is not as efficient as some other programming languages, such as C++ or Java. This is because Python is dynamically typed, rather than statically typed.\n",
      "* **Error-prone:** Python is more error-prone than some other programming languages, such as Java or C++. This is because Python is dynamically typed, and it also has a lot of features that can be misused.\n",
      "\n",
      "Overall, Python is a good programming language for beginners and experienced programmers alike. It's easy to learn, versatile, and has a large and active community. However, it's not as fast or efficient as some other programming languages.\n"
     ]
    }
   ],
   "source": [
    "llm = GoogleGenerativeAI(model=\"models/text-bison-001\", google_api_key=Your-API-KEY)\n",
    "print(\n",
    "    llm.invoke(\n",
    "        \"What are some of the pros and cons of Python as a programming language?\"\n",
    "    )\n",
    ")"
   ]
  },
  {
   "cell_type": "code",
   "execution_count": 3,
   "metadata": {},
   "outputs": [
    {
     "name": "stdout",
     "output_type": "stream",
     "text": [
      "\n",
      "CREATE TABLE actors (\n",
      "\tactor_id INTEGER UNSIGNED NOT NULL AUTO_INCREMENT, \n",
      "\tname VARCHAR(45) NOT NULL, \n",
      "\tbirth_year YEAR, \n",
      "\tPRIMARY KEY (actor_id)\n",
      ")DEFAULT CHARSET=utf8mb4 ENGINE=InnoDB COLLATE utf8mb4_0900_ai_ci\n",
      "\n",
      "/*\n",
      "3 rows from actors table:\n",
      "actor_id\tname\tbirth_year\n",
      "50\tYash\t1986\n",
      "51\tSanjay Dutt\t1959\n",
      "52\tBenedict Cumberbatch\t1976\n",
      "*/\n",
      "\n",
      "\n",
      "CREATE TABLE financials (\n",
      "\tmovie_id INTEGER UNSIGNED NOT NULL, \n",
      "\tbudget DECIMAL(10, 2), \n",
      "\trevenue DECIMAL(10, 2), \n",
      "\tunit ENUM('Units','Thousands','Millions','Billions'), \n",
      "\tcurrency CHAR(3), \n",
      "\tPRIMARY KEY (movie_id)\n",
      ")DEFAULT CHARSET=utf8mb4 ENGINE=InnoDB COLLATE utf8mb4_0900_ai_ci\n",
      "\n",
      "/*\n",
      "3 rows from financials table:\n",
      "movie_id\tbudget\trevenue\tunit\tcurrency\n",
      "101\t1.00\t12.50\tBillions\tINR\n",
      "102\t200.00\t954.80\tMillions\tUSD\n",
      "103\t165.00\t644.80\tMillions\tUSD\n",
      "*/\n",
      "\n",
      "\n",
      "CREATE TABLE languages (\n",
      "\tlanguage_id TINYINT UNSIGNED NOT NULL AUTO_INCREMENT, \n",
      "\tname VARCHAR(45) NOT NULL, \n",
      "\tPRIMARY KEY (language_id)\n",
      ")DEFAULT CHARSET=utf8mb4 ENGINE=InnoDB COLLATE utf8mb4_0900_ai_ci\n",
      "\n",
      "/*\n",
      "3 rows from languages table:\n",
      "language_id\tname\n",
      "7\tBengali\n",
      "5\tEnglish\n",
      "6\tFrench\n",
      "*/\n",
      "\n",
      "\n",
      "CREATE TABLE movie_actor (\n",
      "\tmovie_id INTEGER UNSIGNED NOT NULL, \n",
      "\tactor_id INTEGER UNSIGNED NOT NULL, \n",
      "\tPRIMARY KEY (movie_id, actor_id), \n",
      "\tCONSTRAINT fk_movie_actor_actors FOREIGN KEY(actor_id) REFERENCES actors (actor_id) ON DELETE RESTRICT ON UPDATE CASCADE, \n",
      "\tCONSTRAINT fk_movie_actor_movies FOREIGN KEY(movie_id) REFERENCES movies (movie_id) ON DELETE RESTRICT ON UPDATE CASCADE\n",
      ")DEFAULT CHARSET=utf8mb4 ENGINE=InnoDB COLLATE utf8mb4_0900_ai_ci\n",
      "\n",
      "/*\n",
      "3 rows from movie_actor table:\n",
      "movie_id\tactor_id\n",
      "101\t50\n",
      "101\t51\n",
      "102\t52\n",
      "*/\n",
      "\n",
      "\n",
      "CREATE TABLE movies (\n",
      "\tmovie_id INTEGER UNSIGNED NOT NULL AUTO_INCREMENT, \n",
      "\ttitle VARCHAR(150) NOT NULL, \n",
      "\tindustry VARCHAR(45), \n",
      "\trelease_year YEAR, \n",
      "\timdb_rating DECIMAL(3, 1), \n",
      "\tstudio VARCHAR(45), \n",
      "\tlanguage_id TINYINT UNSIGNED, \n",
      "\tPRIMARY KEY (movie_id), \n",
      "\tCONSTRAINT fk_movies_languages FOREIGN KEY(language_id) REFERENCES languages (language_id) ON DELETE RESTRICT ON UPDATE CASCADE\n",
      ")DEFAULT CHARSET=utf8mb4 ENGINE=InnoDB COLLATE utf8mb4_0900_ai_ci\n",
      "\n",
      "/*\n",
      "3 rows from movies table:\n",
      "movie_id\ttitle\tindustry\trelease_year\timdb_rating\tstudio\tlanguage_id\n",
      "101\tK.G.F: Chapter 2\tBollywood\t2022\t8.4\tHombale Films\t3\n",
      "102\tDoctor Strange in the Multiverse of Madness\tHollywood\t2022\t7.0\tMarvel Studios\t5\n",
      "103\tThor: The Dark World \tHollywood\t2013\t6.8\tMarvel Studios\t5\n",
      "*/\n"
     ]
    }
   ],
   "source": [
    "db_user = 'root'\n",
    "db_password = 'root'\n",
    "db_host = 'localhost'\n",
    "db_name = 'moviesdb'\n",
    "\n",
    "db = SQLDatabase.from_uri(f\"mysql+pymysql://{db_user}:{db_password}@{db_host}/{db_name}\", sample_rows_in_table_info=3)\n",
    "\n",
    "print(db.table_info)"
   ]
  },
  {
   "cell_type": "code",
   "execution_count": 4,
   "metadata": {},
   "outputs": [
    {
     "name": "stderr",
     "output_type": "stream",
     "text": [
      "c:\\Users\\ULTRON\\AppData\\Local\\Programs\\Python\\Python310\\lib\\site-packages\\langchain_core\\_api\\deprecation.py:139: LangChainDeprecationWarning: The method `Chain.run` was deprecated in langchain 0.1.0 and will be removed in 0.3.0. Use invoke instead.\n",
      "  warn_deprecated(\n"
     ]
    },
    {
     "name": "stdout",
     "output_type": "stream",
     "text": [
      "\n",
      "\n",
      "\u001b[1m> Entering new SQLDatabaseChain chain...\u001b[0m\n",
      "How many movies do yo have?\n",
      "SQLQuery:\u001b[32;1m\u001b[1;3mSELECT count(*) FROM movies\u001b[0m\n",
      "SQLResult: \u001b[33;1m\u001b[1;3m[(39,)]\u001b[0m\n",
      "Answer:\u001b[32;1m\u001b[1;3m39\u001b[0m\n",
      "\u001b[1m> Finished chain.\u001b[0m\n"
     ]
    }
   ],
   "source": [
    "db_chain = SQLDatabaseChain.from_llm(llm, db,verbose=True)\n",
    "\n",
    "# Contoh mudah\n",
    "qns1 = db_chain.run(\"How many movies do yo have?\")"
   ]
  },
  {
   "cell_type": "code",
   "execution_count": 5,
   "metadata": {},
   "outputs": [
    {
     "name": "stdout",
     "output_type": "stream",
     "text": [
      "\n",
      "\n",
      "\u001b[1m> Entering new SQLDatabaseChain chain...\u001b[0m\n",
      "How many movies is using telugu language?\n",
      "SQLQuery:\u001b[32;1m\u001b[1;3mSELECT count(*) FROM movies WHERE language_id=3\u001b[0m\n",
      "SQLResult: \u001b[33;1m\u001b[1;3m[(1,)]\u001b[0m\n",
      "Answer:\u001b[32;1m\u001b[1;3m1\u001b[0m\n",
      "\u001b[1m> Finished chain.\u001b[0m\n"
     ]
    }
   ],
   "source": [
    "# contoh sulit\n",
    "qns2 = db_chain.run(\"How many movies is using telugu language?\")"
   ]
  },
  {
   "cell_type": "code",
   "execution_count": 6,
   "metadata": {},
   "outputs": [],
   "source": [
    "# SELECT COUNT(*) FROM movies WHERE language_id IN (Select language_id FROM languages WHERE name=\"TELUGU\")"
   ]
  },
  {
   "cell_type": "code",
   "execution_count": 7,
   "metadata": {},
   "outputs": [
    {
     "name": "stdout",
     "output_type": "stream",
     "text": [
      "\n",
      "\n",
      "\u001b[1m> Entering new SQLDatabaseChain chain...\u001b[0m\n",
      "Which Hollywood film has the biggest profit ever?\n",
      "SQLQuery:\u001b[32;1m\u001b[1;3mSELECT title FROM movies JOIN financials ON movies.movie_id = financials.movie_id WHERE movies.industry = \"Hollywood\" ORDER BY revenue - budget DESC LIMIT 1\u001b[0m\n",
      "SQLResult: \u001b[33;1m\u001b[1;3m[('Avatar',)]\u001b[0m\n",
      "Answer:\u001b[32;1m\u001b[1;3mAvatar\u001b[0m\n",
      "\u001b[1m> Finished chain.\u001b[0m\n"
     ]
    }
   ],
   "source": [
    "# Contoh sult+\n",
    "qns3 = db_chain.run(\"Which Hollywood film has the biggest profit ever?\")\n",
    "\n",
    "# Harus mikir revenue - budget, unit, dan currency"
   ]
  },
  {
   "cell_type": "code",
   "execution_count": 8,
   "metadata": {},
   "outputs": [],
   "source": [
    "# SELECT mt.movie_id, mt.title\n",
    "# FROM (\n",
    "#     SELECT movie_id, \n",
    "#         (CASE \n",
    "#             WHEN unit = 'Billions' AND currency = 'INR' THEN (revenue * 1000 * 0.012) - (budget * 1000 * 0.012)\n",
    "#             WHEN unit = 'Millions' AND currency = 'INR' THEN (revenue * 0.012) - (budget * 0.012)\n",
    "#             WHEN unit = 'Billions' AND currency = 'USD' THEN (revenue * 1000) - (budget * 1000)\n",
    "#             ELSE revenue - budget\n",
    "#         END) AS profit_in_usd_millions\n",
    "#     FROM financials\n",
    "#     ORDER BY profit_in_usd_millions DESC\n",
    "#     LIMIT 1\n",
    "# ) AS max_profit\n",
    "# JOIN movies mt ON max_profit.movie_id = mt.movie_id;"
   ]
  },
  {
   "cell_type": "code",
   "execution_count": 9,
   "metadata": {},
   "outputs": [
    {
     "name": "stdout",
     "output_type": "stream",
     "text": [
      "\n",
      "\n",
      "\u001b[1m> Entering new SQLDatabaseChain chain...\u001b[0m\n",
      "Please suggest me good holywood movie\n",
      "SQLQuery:\u001b[32;1m\u001b[1;3mSELECT title FROM movies WHERE industry = 'Hollywood' AND imdb_rating > 7.0 ORDER BY release_year DESC LIMIT 5\u001b[0m\n",
      "SQLResult: \u001b[33;1m\u001b[1;3m[('Parasite',), ('Avengers: Endgame',), ('Avengers: Infinity War',), ('Thor: Ragnarok ',), ('Captain America: The Winter Soldier',)]\u001b[0m\n",
      "Answer:\u001b[32;1m\u001b[1;3mParasite, Avengers: Endgame, Avengers: Infinity War, Thor: Ragnarok , Captain America: The Winter Soldier\u001b[0m\n",
      "\u001b[1m> Finished chain.\u001b[0m\n"
     ]
    }
   ],
   "source": [
    "qns4 = db_chain.run(\"Please suggest me good holywood movie\")"
   ]
  },
  {
   "cell_type": "markdown",
   "metadata": {},
   "source": [
    "Few Shot Learning"
   ]
  },
  {
   "cell_type": "code",
   "execution_count": 10,
   "metadata": {},
   "outputs": [
    {
     "name": "stdout",
     "output_type": "stream",
     "text": [
      "\n",
      "\n",
      "\u001b[1m> Entering new SQLDatabaseChain chain...\u001b[0m\n",
      "How many movies is using telugu language?\n",
      "SQLQuery:\u001b[32;1m\u001b[1;3mSELECT count(*) FROM movies JOIN languages ON movies.language_id = languages.language_id WHERE languages.name = 'Telugu'\u001b[0m\n",
      "SQLResult: \u001b[33;1m\u001b[1;3m[(3,)]\u001b[0m\n",
      "Answer:\u001b[32;1m\u001b[1;3m3\u001b[0m\n",
      "\u001b[1m> Finished chain.\u001b[0m\n",
      "\n",
      "\n",
      "\u001b[1m> Entering new SQLDatabaseChain chain...\u001b[0m\n",
      "Which Hollywood film has the biggest profit ever?\n",
      "SQLQuery:\u001b[32;1m\u001b[1;3mSELECT title FROM movies JOIN financials ON movies.movie_id = financials.movie_id WHERE movies.industry = 'Hollywood' ORDER BY financials.revenue - financials.budget DESC LIMIT 1\u001b[0m\n",
      "SQLResult: \u001b[33;1m\u001b[1;3m[('Avatar',)]\u001b[0m\n",
      "Answer:\u001b[32;1m\u001b[1;3mAvatar\u001b[0m\n",
      "\u001b[1m> Finished chain.\u001b[0m\n",
      "\n",
      "\n",
      "\u001b[1m> Entering new SQLDatabaseChain chain...\u001b[0m\n",
      "Please suggest me good holywood movie\n",
      "SQLQuery:\u001b[32;1m\u001b[1;3mSELECT title FROM movies WHERE industry='Hollywood' AND imdb_rating>=7.0 ORDER BY release_year DESC LIMIT 5\u001b[0m\n",
      "SQLResult: \u001b[33;1m\u001b[1;3m[('Doctor Strange in the Multiverse of Madness',), ('Avengers: Endgame',), ('Parasite',), ('Avengers: Infinity War',), ('Thor: Ragnarok ',)]\u001b[0m\n",
      "Answer:\u001b[32;1m\u001b[1;3mDoctor Strange in the Multiverse of Madness, Avengers: Endgame, Parasite, Avengers: Infinity War, Thor: Ragnarok\u001b[0m\n",
      "\u001b[1m> Finished chain.\u001b[0m\n"
     ]
    }
   ],
   "source": [
    "qnsx = db_chain.run(\"How many movies is using telugu language?\")\n",
    "qnsy = db_chain.run(\"Which Hollywood film has the biggest profit ever?\")\n",
    "qnsa = db_chain.run(\"Please suggest me good holywood movie\")\n"
   ]
  },
  {
   "cell_type": "code",
   "execution_count": 11,
   "metadata": {},
   "outputs": [],
   "source": [
    "few_shots = [\n",
    "    {\n",
    "        'Question': \"How many movies is using telugu language?\",\n",
    "        'SQLQuery': \"SELECT COUNT(*) FROM movies WHERE language_id IN (SELECT language_id FROM languages WHERE name='Telugu')\",\n",
    "        'SQLResult': \"Result of the SQL query\",\n",
    "        'Answer': \"3\"\n",
    "    },\n",
    "    {\n",
    "        'Question': \"Which Hollywood film has the biggest profit ever?\",\n",
    "        'SQLQuery': \"SELECT mt.title FROM (SELECT movie_id, (CASE WHEN unit = 'Billions' AND currency = 'INR' THEN (revenue * 1000 * 0.012) - (budget * 1000 * 0.012) WHEN unit = 'Millions' AND currency = 'INR' THEN (revenue * 0.012) - (budget * 0.012) WHEN unit = 'Billions' AND currency = 'USD' THEN (revenue * 1000) - (budget * 1000) ELSE revenue - budget END) AS profit_in_usd_millions FROM financials ORDER BY profit_in_usd_millions DESC LIMIT 1) AS max_profit JOIN movies mt ON max_profit.movie_id = mt.movie_id;\",\n",
    "        'SQLResult': \"Result of the SQL query\",\n",
    "        'Answer': \"Avatar\"\n",
    "    },\n",
    "    {\n",
    "        'Question': \"Please suggest me good holywood movie\",\n",
    "        'SQLQuery': \"SELECT title FROM movies WHERE industry = 'Hollywood' AND imdb_rating > 7 ORDER BY imdb_rating DESC LIMIT 1\",\n",
    "        'SQLResult': \"Result of the SQL query\",\n",
    "        'Answer': \"The Shawshank Redemption\"\n",
    "    }\n",
    "]"
   ]
  },
  {
   "cell_type": "code",
   "execution_count": 12,
   "metadata": {},
   "outputs": [
    {
     "name": "stderr",
     "output_type": "stream",
     "text": [
      "c:\\Users\\ULTRON\\AppData\\Local\\Programs\\Python\\Python310\\lib\\site-packages\\langchain_core\\_api\\deprecation.py:139: LangChainDeprecationWarning: The class `HuggingFaceEmbeddings` was deprecated in LangChain 0.2.2 and will be removed in 0.3.0. An updated version of the class exists in the langchain-huggingface package and should be used instead. To use it run `pip install -U langchain-huggingface` and import as `from langchain_huggingface import HuggingFaceEmbeddings`.\n",
      "  warn_deprecated(\n",
      "c:\\Users\\ULTRON\\AppData\\Local\\Programs\\Python\\Python310\\lib\\site-packages\\huggingface_hub\\file_download.py:1132: FutureWarning: `resume_download` is deprecated and will be removed in version 1.0.0. Downloads always resume when possible. If you want to force a new download, use `force_download=True`.\n",
      "  warnings.warn(\n"
     ]
    }
   ],
   "source": [
    "from langchain.embeddings import HuggingFaceEmbeddings\n",
    "\n",
    "# HuggingFaceEmbeddings(model_name='sentence-transformers/all-mpnet-base-v2')\n",
    "embeddings = HuggingFaceEmbeddings(model_name='sentence-transformers/all-MiniLM-L6-v2')\n",
    "e = embeddings.embed_query(\"How many movies do yo have?\")"
   ]
  },
  {
   "cell_type": "code",
   "execution_count": 13,
   "metadata": {},
   "outputs": [
    {
     "data": {
      "text/plain": [
       "384"
      ]
     },
     "execution_count": 13,
     "metadata": {},
     "output_type": "execute_result"
    }
   ],
   "source": [
    "len(e)"
   ]
  },
  {
   "cell_type": "code",
   "execution_count": 14,
   "metadata": {},
   "outputs": [
    {
     "data": {
      "text/plain": [
       "[\"How many movies is using telugu language? SELECT COUNT(*) FROM movies WHERE language_id IN (SELECT language_id FROM languages WHERE name='Telugu') Result of the SQL query 3\",\n",
       " \"Which Hollywood film has the biggest profit ever? SELECT mt.title FROM (SELECT movie_id, (CASE WHEN unit = 'Billions' AND currency = 'INR' THEN (revenue * 1000 * 0.012) - (budget * 1000 * 0.012) WHEN unit = 'Millions' AND currency = 'INR' THEN (revenue * 0.012) - (budget * 0.012) WHEN unit = 'Billions' AND currency = 'USD' THEN (revenue * 1000) - (budget * 1000) ELSE revenue - budget END) AS profit_in_usd_millions FROM financials ORDER BY profit_in_usd_millions DESC LIMIT 1) AS max_profit JOIN movies mt ON max_profit.movie_id = mt.movie_id; Result of the SQL query Avatar\",\n",
       " \"Please suggest me good holywood movie SELECT title FROM movies WHERE industry = 'Hollywood' AND imdb_rating > 7 ORDER BY imdb_rating DESC LIMIT 1 Result of the SQL query The Shawshank Redemption\"]"
      ]
     },
     "execution_count": 14,
     "metadata": {},
     "output_type": "execute_result"
    }
   ],
   "source": [
    "to_vectorize = [\" \".join(example.values()) for example in few_shots]\n",
    "to_vectorize"
   ]
  },
  {
   "cell_type": "code",
   "execution_count": 15,
   "metadata": {},
   "outputs": [],
   "source": [
    "from langchain.vectorstores import Chroma\n",
    "\n",
    "vector_store = Chroma.from_texts(to_vectorize, embedding=embeddings, metadatas=few_shots)"
   ]
  },
  {
   "cell_type": "code",
   "execution_count": 16,
   "metadata": {},
   "outputs": [
    {
     "data": {
      "text/plain": [
       "[{'Answer': '3',\n",
       "  'Question': 'How many movies is using telugu language?',\n",
       "  'SQLQuery': \"SELECT COUNT(*) FROM movies WHERE language_id IN (SELECT language_id FROM languages WHERE name='Telugu')\",\n",
       "  'SQLResult': 'Result of the SQL query'},\n",
       " {'Answer': 'The Shawshank Redemption',\n",
       "  'Question': 'Please suggest me good holywood movie',\n",
       "  'SQLQuery': \"SELECT title FROM movies WHERE industry = 'Hollywood' AND imdb_rating > 7 ORDER BY imdb_rating DESC LIMIT 1\",\n",
       "  'SQLResult': 'Result of the SQL query'}]"
      ]
     },
     "execution_count": 16,
     "metadata": {},
     "output_type": "execute_result"
    }
   ],
   "source": [
    "from langchain.prompts import SemanticSimilarityExampleSelector\n",
    "\n",
    "example_selector = SemanticSimilarityExampleSelector(\n",
    "    vectorstore=vector_store,\n",
    "    k=2\n",
    ")\n",
    "\n",
    "example_selector.select_examples({'Question' : \"How many movies is using English language?\"})"
   ]
  },
  {
   "cell_type": "code",
   "execution_count": 17,
   "metadata": {},
   "outputs": [],
   "source": [
    "from langchain.chains.sql_database.prompt import PROMPT_SUFFIX, _mysql_prompt"
   ]
  },
  {
   "cell_type": "code",
   "execution_count": 18,
   "metadata": {},
   "outputs": [
    {
     "name": "stdout",
     "output_type": "stream",
     "text": [
      "You are a MySQL expert. Given an input question, first create a syntactically correct MySQL query to run, then look at the results of the query and return the answer to the input question.\n",
      "Unless the user specifies in the question a specific number of examples to obtain, query for at most {top_k} results using the LIMIT clause as per MySQL. You can order the results to return the most informative data in the database.\n",
      "Never query for all columns from a table. You must query only the columns that are needed to answer the question. Wrap each column name in backticks (`) to denote them as delimited identifiers.\n",
      "Pay attention to use only the column names you can see in the tables below. Be careful to not query for columns that do not exist. Also, pay attention to which column is in which table.\n",
      "Pay attention to use CURDATE() function to get the current date, if the question involves \"today\".\n",
      "\n",
      "Use the following format:\n",
      "\n",
      "Question: Question here\n",
      "SQLQuery: SQL Query to run\n",
      "SQLResult: Result of the SQLQuery\n",
      "Answer: Final answer here\n",
      "\n",
      "\n"
     ]
    }
   ],
   "source": [
    "print(_mysql_prompt)"
   ]
  },
  {
   "cell_type": "code",
   "execution_count": 19,
   "metadata": {},
   "outputs": [
    {
     "name": "stdout",
     "output_type": "stream",
     "text": [
      "Only use the following tables:\n",
      "{table_info}\n",
      "\n",
      "Question: {input}\n"
     ]
    }
   ],
   "source": [
    "print(PROMPT_SUFFIX)"
   ]
  },
  {
   "cell_type": "code",
   "execution_count": 20,
   "metadata": {},
   "outputs": [],
   "source": [
    "from langchain.prompts.prompt import PromptTemplate\n",
    "\n",
    "example_prompt = PromptTemplate(\n",
    "    input_variables=['Question', 'SQLQuery', 'SQLResult', 'Answer',],\n",
    "    template=\"\\nQuestion: {Question}\\nSQLQuery: {SQLQuery}\\nSQLResult: {SQLResult}\\nAnswer: {Answer}\"\n",
    ")"
   ]
  },
  {
   "cell_type": "code",
   "execution_count": 21,
   "metadata": {},
   "outputs": [],
   "source": [
    "from langchain.prompts import FewShotPromptTemplate\n",
    "\n",
    "few_shot_prompt = FewShotPromptTemplate(\n",
    "    example_selector=example_selector,\n",
    "    example_prompt=example_prompt,\n",
    "    prefix=_mysql_prompt,\n",
    "    suffix=PROMPT_SUFFIX,\n",
    "    input_variables=[\"input\", \"table_info\", \"top_k\"],\n",
    ")"
   ]
  },
  {
   "cell_type": "code",
   "execution_count": 22,
   "metadata": {},
   "outputs": [],
   "source": [
    "new_chain = SQLDatabaseChain.from_llm(llm, db, verbose=True, prompt=few_shot_prompt)"
   ]
  },
  {
   "cell_type": "code",
   "execution_count": 23,
   "metadata": {},
   "outputs": [
    {
     "name": "stdout",
     "output_type": "stream",
     "text": [
      "\n",
      "\n",
      "\u001b[1m> Entering new SQLDatabaseChain chain...\u001b[0m\n",
      "How many movies is using telugu language?\n",
      "SQLQuery:"
     ]
    },
    {
     "name": "stderr",
     "output_type": "stream",
     "text": [
      "c:\\Users\\ULTRON\\AppData\\Local\\Programs\\Python\\Python310\\lib\\site-packages\\langchain_core\\_api\\deprecation.py:139: LangChainDeprecationWarning: The method `Chain.__call__` was deprecated in langchain 0.1.0 and will be removed in 0.3.0. Use invoke instead.\n",
      "  warn_deprecated(\n"
     ]
    },
    {
     "name": "stdout",
     "output_type": "stream",
     "text": [
      "\u001b[32;1m\u001b[1;3mSELECT COUNT(*) FROM movies WHERE language_id IN (SELECT language_id FROM languages WHERE name='Telugu')\u001b[0m\n",
      "SQLResult: \u001b[33;1m\u001b[1;3m[(3,)]\u001b[0m\n",
      "Answer:\u001b[32;1m\u001b[1;3m3\u001b[0m\n",
      "\u001b[1m> Finished chain.\u001b[0m\n"
     ]
    },
    {
     "data": {
      "text/plain": [
       "{'query': 'How many movies is using telugu language?', 'result': '3'}"
      ]
     },
     "execution_count": 23,
     "metadata": {},
     "output_type": "execute_result"
    }
   ],
   "source": [
    "new_chain(\"How many movies is using telugu language?\")"
   ]
  },
  {
   "cell_type": "code",
   "execution_count": 24,
   "metadata": {},
   "outputs": [
    {
     "name": "stdout",
     "output_type": "stream",
     "text": [
      "\n",
      "\n",
      "\u001b[1m> Entering new SQLDatabaseChain chain...\u001b[0m\n",
      "Which Hollywood film has the biggest profit ever?\n",
      "SQLQuery:\u001b[32;1m\u001b[1;3mSELECT mt.title FROM (SELECT movie_id, (CASE WHEN unit = 'Billions' AND currency = 'INR' THEN (revenue * 1000 * 0.012) - (budget * 1000 * 0.012) WHEN unit = 'Millions' AND currency = 'INR' THEN (revenue * 0.012) - (budget * 0.012) WHEN unit = 'Billions' AND currency = 'USD' THEN (revenue * 1000) - (budget * 1000) ELSE revenue - budget END) AS profit_in_usd_millions FROM financials ORDER BY profit_in_usd_millions DESC LIMIT 1) AS max_profit JOIN movies mt ON max_profit.movie_id = mt.movie_id;\u001b[0m\n",
      "SQLResult: \u001b[33;1m\u001b[1;3m[('Avatar',)]\u001b[0m\n",
      "Answer:\u001b[32;1m\u001b[1;3mAvatar\u001b[0m\n",
      "\u001b[1m> Finished chain.\u001b[0m\n"
     ]
    },
    {
     "data": {
      "text/plain": [
       "{'query': 'Which Hollywood film has the biggest profit ever?',\n",
       " 'result': 'Avatar'}"
      ]
     },
     "execution_count": 24,
     "metadata": {},
     "output_type": "execute_result"
    }
   ],
   "source": [
    "new_chain(\"Which Hollywood film has the biggest profit ever?\")"
   ]
  },
  {
   "cell_type": "code",
   "execution_count": null,
   "metadata": {},
   "outputs": [],
   "source": []
  }
 ],
 "metadata": {
  "kernelspec": {
   "display_name": "Python 3",
   "language": "python",
   "name": "python3"
  },
  "language_info": {
   "codemirror_mode": {
    "name": "ipython",
    "version": 3
   },
   "file_extension": ".py",
   "mimetype": "text/x-python",
   "name": "python",
   "nbconvert_exporter": "python",
   "pygments_lexer": "ipython3",
   "version": "3.10.11"
  }
 },
 "nbformat": 4,
 "nbformat_minor": 2
}
